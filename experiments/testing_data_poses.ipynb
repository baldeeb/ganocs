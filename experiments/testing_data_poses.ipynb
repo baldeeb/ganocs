{
 "cells": [
  {
   "cell_type": "code",
   "execution_count": 1,
   "metadata": {},
   "outputs": [],
   "source": [
    "%load_ext autoreload\n",
    "%autoreload 2\n",
    "\n",
    "import sys\n",
    "import os\n",
    "ROOT_DIR = os.path.abspath(\"../\")\n",
    "sys.path.insert(0, ROOT_DIR)\n",
    "os.chdir(ROOT_DIR)"
   ]
  },
  {
   "cell_type": "code",
   "execution_count": 5,
   "metadata": {},
   "outputs": [
    {
     "name": "stderr",
     "output_type": "stream",
     "text": [
      "/home/baldeeb/Code/pytorch-NOCS/utils/load_save.py:11: UserWarning: \n",
      "The version_base parameter is not specified.\n",
      "Please specify a compatability version level, or None.\n",
      "Will assume defaults for version 1.1\n",
      "  hydra.initialize(config_path=config_path, job_name=job_name)\n"
     ]
    }
   ],
   "source": [
    "from utils.load_save import load_from_config\n",
    "import hydra\n",
    "\n",
    "config_path = '../config'\n",
    "config_name = 'base'\n",
    "job_name = 'eval-base'\n",
    "overrides = []\n",
    "model_path = '/home/baldeeb/Code/pytorch-NOCS/checkpoints/base/2023-09-11_15-37-15/9_end.pth'\n",
    "device = 'cuda:0'\n",
    "\n",
    "model, config = load_from_config(config_path, config_name, job_name, model_path=model_path)\n",
    "model.to(device)\n",
    "\n",
    "dataloader = hydra.utils.instantiate(config.data.testing)\n"
   ]
  },
  {
   "cell_type": "code",
   "execution_count": 8,
   "metadata": {},
   "outputs": [
    {
     "name": "stderr",
     "output_type": "stream",
     "text": [
      "                                                        \r"
     ]
    }
   ],
   "source": [
    "from utils.evaluation.wrapper import eval\n",
    "\n",
    "\n",
    "eval(model, dataloader, device=device, num_batches=5, log=log)"
   ]
  }
 ],
 "metadata": {
  "kernelspec": {
   "display_name": "Python 3",
   "language": "python",
   "name": "python3"
  },
  "language_info": {
   "codemirror_mode": {
    "name": "ipython",
    "version": 3
   },
   "file_extension": ".py",
   "mimetype": "text/x-python",
   "name": "python",
   "nbconvert_exporter": "python",
   "pygments_lexer": "ipython3",
   "version": "3.10.9"
  },
  "orig_nbformat": 4,
  "vscode": {
   "interpreter": {
    "hash": "c52fc408b2185ab44fd6851af3f3609bd0f1b8cfc05d8fef7114f9fa92208d5e"
   }
  }
 },
 "nbformat": 4,
 "nbformat_minor": 2
}
