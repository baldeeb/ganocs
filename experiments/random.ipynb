{
 "cells": [
  {
   "cell_type": "code",
   "execution_count": 4,
   "metadata": {},
   "outputs": [
    {
     "name": "stdout",
     "output_type": "stream",
     "text": [
      "tensor([1, 2])\n",
      "tensor([3, 4])\n",
      "tensor([5, 6])\n",
      "tensor([7, 8])\n"
     ]
    }
   ],
   "source": [
    "# Torch dataloader indexing\n",
    "\n",
    "from torch.utils.data import DataLoader\n",
    "\n",
    "data_itr = DataLoader([1,2,3,4,5,6,7,8,9,10], batch_size=2, shuffle=False, drop_last=True).__iter__()\n",
    "\n",
    "for i in range(4):\n",
    "    # Check if iterator is exhausted\n",
    "    try:\n",
    "        print(next(data_itr))\n",
    "    except StopIteration:\n",
    "        print(f'Iteration {i} is the last iteration')\n",
    "        break"
   ]
  }
 ],
 "metadata": {
  "kernelspec": {
   "display_name": "Python 3",
   "language": "python",
   "name": "python3"
  },
  "language_info": {
   "codemirror_mode": {
    "name": "ipython",
    "version": 3
   },
   "file_extension": ".py",
   "mimetype": "text/x-python",
   "name": "python",
   "nbconvert_exporter": "python",
   "pygments_lexer": "ipython3",
   "version": "3.10.9"
  },
  "orig_nbformat": 4
 },
 "nbformat": 4,
 "nbformat_minor": 2
}
