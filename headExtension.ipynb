{
 "cells": [
  {
   "cell_type": "code",
   "execution_count": 1,
   "metadata": {},
   "outputs": [],
   "source": [
    "\n",
    "from typing import Any, Callable, List, Optional, Tuple, Union, Dict\n",
    "from torch import Tensor\n",
    "from torchvision.ops import MultiScaleRoIAlign\n",
    "from torchvision.models.detection.mask_rcnn import MaskRCNNHeads, MaskRCNNPredictor"
   ]
  },
  {
   "cell_type": "code",
   "execution_count": null,
   "metadata": {},
   "outputs": [],
   "source": [
    "from torchvision.models.detection.roi_heads import RoIHeads\n",
    "from torch import nn\n",
    "\n",
    "class RoIHeadsWithNocs(nn.Module):\n",
    "    def __init__(self, in_channels, num_bins=32, other_heads:RoIHeads=None):\n",
    "        super().__init__()\n",
    "        self.heads = other_heads\n",
    "\n",
    "        layers = (256, 256, 256, 256, 256)\n",
    "\n",
    "        self.nocs_heads = {}\n",
    "        for k in ['x', 'y', 'z']:\n",
    "            self.nocs_heads[k] = nn.ModuleDict({\n",
    "                'roi_align': MultiScaleRoIAlign(\n",
    "                                featmap_names=[\"0\", \"1\", \"2\", \"3\"], \n",
    "                                output_size=14, \n",
    "                                sampling_ratio=2),\n",
    "                'head': MaskRCNNHeads(\n",
    "                                in_channels, \n",
    "                                layers[:-1], \n",
    "                                dilation=1),\n",
    "                'pred': MaskRCNNPredictor(\n",
    "                                layers[-2], \n",
    "                                layers[-1], \n",
    "                                num_bins)\n",
    "            })\n",
    "\n",
    "    def forward(\n",
    "            self,\n",
    "            features     : Dict[str, Tensor],\n",
    "            proposals    : List[Tensor],\n",
    "            image_shapes : List[Tuple[int, int]],\n",
    "            targets      : Optional[List[Dict[str, Tensor]]] = None ,\n",
    "            ):\n",
    "        \n",
    "        results, lables = self.heads(features, proposals, image_shapes, targets)\n",
    "        for _, head in self.nocs_heads.items():\n",
    "            x = head['roi_align'](features, proposals, image_shapes)\n",
    "            x = head['head'](x)\n",
    "            x = head['pred'](x)\n",
    "        return results, lables"
   ]
  },
  {
   "cell_type": "code",
   "execution_count": 3,
   "metadata": {},
   "outputs": [],
   "source": [
    "from torchvision.models.detection.mask_rcnn import MaskRCNN\n",
    "\n",
    "\n",
    "class NOCS(MaskRCNN):\n",
    "    def __init__(\n",
    "        self,\n",
    "        backbone,\n",
    "        num_classes=None,\n",
    "        # transform parameters\n",
    "        min_size=800,\n",
    "        max_size=1333,\n",
    "        image_mean=None,\n",
    "        image_std=None,\n",
    "        # RPN parameters\n",
    "        rpn_anchor_generator=None,\n",
    "        rpn_head=None,\n",
    "        rpn_pre_nms_top_n_train=2000,\n",
    "        rpn_pre_nms_top_n_test=1000,\n",
    "        rpn_post_nms_top_n_train=2000,\n",
    "        rpn_post_nms_top_n_test=1000,\n",
    "        rpn_nms_thresh=0.7,\n",
    "        rpn_fg_iou_thresh=0.7,\n",
    "        rpn_bg_iou_thresh=0.3,\n",
    "        rpn_batch_size_per_image=256,\n",
    "        rpn_positive_fraction=0.5,\n",
    "        rpn_score_thresh=0.0,\n",
    "        # Box parameters\n",
    "        box_roi_pool=None,\n",
    "        box_head=None,\n",
    "        box_predictor=None,\n",
    "        box_score_thresh=0.05,\n",
    "        box_nms_thresh=0.5,\n",
    "        box_detections_per_img=100,\n",
    "        box_fg_iou_thresh=0.5,\n",
    "        box_bg_iou_thresh=0.5,\n",
    "        box_batch_size_per_image=512,\n",
    "        box_positive_fraction=0.25,\n",
    "        bbox_reg_weights=None,\n",
    "        # Mask parameters\n",
    "        mask_roi_pool=None,\n",
    "        mask_head=None,\n",
    "        mask_predictor=None,\n",
    "        **kwargs,\n",
    "    ):\n",
    "        super().__init__(\n",
    "            backbone,\n",
    "            num_classes,\n",
    "            # transform parameters\n",
    "            min_size,\n",
    "            max_size,\n",
    "            image_mean,\n",
    "            image_std,\n",
    "            # RPN-specific parameters\n",
    "            rpn_anchor_generator,\n",
    "            rpn_head,\n",
    "            rpn_pre_nms_top_n_train,\n",
    "            rpn_pre_nms_top_n_test,\n",
    "            rpn_post_nms_top_n_train,\n",
    "            rpn_post_nms_top_n_test,\n",
    "            rpn_nms_thresh,\n",
    "            rpn_fg_iou_thresh,\n",
    "            rpn_bg_iou_thresh,\n",
    "            rpn_batch_size_per_image,\n",
    "            rpn_positive_fraction,\n",
    "            rpn_score_thresh,\n",
    "            # Box parameters\n",
    "            box_roi_pool,\n",
    "            box_head,\n",
    "            box_predictor,\n",
    "            box_score_thresh,\n",
    "            box_nms_thresh,\n",
    "            box_detections_per_img,\n",
    "            box_fg_iou_thresh,\n",
    "            box_bg_iou_thresh,\n",
    "            box_batch_size_per_image,\n",
    "            box_positive_fraction,\n",
    "            bbox_reg_weights,\n",
    "            # Mask parameters\n",
    "            mask_roi_pool,\n",
    "            mask_head,\n",
    "            mask_predictor,\n",
    "            **kwargs,\n",
    "        )\n",
    "        self.roi_heads = RoIHeadsWithNocs(self.roi_heads)"
   ]
  },
  {
   "cell_type": "code",
   "execution_count": 4,
   "metadata": {},
   "outputs": [
    {
     "name": "stdout",
     "output_type": "stream",
     "text": [
      "loading annotations into memory...\n",
      "Done (t=19.39s)\n",
      "creating index...\n",
      "index created!\n"
     ]
    }
   ],
   "source": [
    "import torch\n",
    "import torchvision\n",
    "from torchvision.models.detection import maskrcnn_resnet50_fpn, MaskRCNN_ResNet50_FPN_Weights\n",
    "\n",
    "from pathlib import Path\n",
    "import os\n",
    "\n",
    "from torchvision import transforms\n",
    "\n",
    "\n",
    "if 'image' not in vars():\n",
    "    # DATA_FOLDER = Path(__file__).resolve().parent / 'data'\n",
    "    DATA_FOLDER = Path('/home/bahaa/Code/torch_nocs/data')\n",
    "    dataset = torchvision.datasets.CocoDetection(\n",
    "                                DATA_FOLDER/'train' \n",
    "                                ,DATA_FOLDER/'annotations/instances_train2017.json'\n",
    "                                ,transform=transforms.PILToTensor())\n",
    "    image, targets = dataset[0][0], dataset[0][1] "
   ]
  },
  {
   "cell_type": "code",
   "execution_count": 5,
   "metadata": {},
   "outputs": [
    {
     "name": "stderr",
     "output_type": "stream",
     "text": [
      "/home/bahaa/anaconda3/envs/nocs/lib/python3.8/site-packages/torchvision/models/_utils.py:135: UserWarning: Using 'backbone_name' and 'weights' as positional parameter(s) is deprecated since 0.13 and may be removed in the future. Please use keyword parameter(s) instead.\n",
      "  warnings.warn(\n"
     ]
    },
    {
     "ename": "",
     "evalue": "",
     "output_type": "error",
     "traceback": [
      "\u001b[1;31mCanceled future for execute_request message before replies were done"
     ]
    },
    {
     "ename": "",
     "evalue": "",
     "output_type": "error",
     "traceback": [
      "\u001b[1;31mThe Kernel crashed while executing code in the the current cell or a previous cell. Please review the code in the cell(s) to identify a possible cause of the failure. Click <a href='https://aka.ms/vscodeJupyterKernelCrash'>here</a> for more info. View Jupyter <a href='command:jupyter.viewOutput'>log</a> for further details."
     ]
    }
   ],
   "source": [
    "from torchvision.models.feature_extraction import get_graph_node_names\n",
    "from torchvision.models.feature_extraction import create_feature_extractor\n",
    "from torchvision.models import resnet50, ResNet50_Weights\n",
    "from torchvision.models.detection.backbone_utils import _resnet_fpn_extractor, _validate_trainable_layers, resnet_fpn_backbone\n",
    "\n",
    "\n",
    "backbone = resnet_fpn_backbone('resnet50', ResNet50_Weights.DEFAULT)\n",
    "m = NOCS(backbone, 91)\n",
    "\n",
    "\n",
    "m.eval()\n",
    "x = [torch.rand(3, 30, 40), torch.rand(3, 50, 40)]\n",
    "# x = [image.float() / 255.0]\n",
    "predictions = m(x)"
   ]
  },
  {
   "cell_type": "code",
   "execution_count": null,
   "metadata": {},
   "outputs": [],
   "source": []
  }
 ],
 "metadata": {
  "kernelspec": {
   "display_name": "nocs",
   "language": "python",
   "name": "python3"
  },
  "language_info": {
   "codemirror_mode": {
    "name": "ipython",
    "version": 3
   },
   "file_extension": ".py",
   "mimetype": "text/x-python",
   "name": "python",
   "nbconvert_exporter": "python",
   "pygments_lexer": "ipython3",
   "version": "3.8.16"
  },
  "orig_nbformat": 4
 },
 "nbformat": 4,
 "nbformat_minor": 2
}
