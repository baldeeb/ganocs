{
 "cells": [
  {
   "cell_type": "code",
   "execution_count": 20,
   "metadata": {},
   "outputs": [],
   "source": [
    "# Automatically reload modules that have been changed\n",
    "%load_ext autoreload\n",
    "%autoreload 2"
   ]
  },
  {
   "cell_type": "code",
   "execution_count": 21,
   "metadata": {},
   "outputs": [],
   "source": [
    "import torch\n",
    "import torchvision\n",
    "from torchvision import transforms\n",
    "\n",
    "from pathlib import Path\n",
    "\n",
    "\n",
    "\n",
    "if 'image' not in vars():\n",
    "    # DATA_FOLDER = Path(__file__).resolve().parent / 'data'\n",
    "    DATA_FOLDER = Path('/home/baldeeb/Data/cocodataset/')\n",
    "    dataset = torchvision.datasets.CocoDetection(\n",
    "                                DATA_FOLDER/'val2017' \n",
    "                                ,DATA_FOLDER/'annotations_trainval2017/annotations/instances_val2017.json'\n",
    "                                ,transform=transforms.PILToTensor())\n",
    "    image, targets = dataset[0][0], dataset[0][1] "
   ]
  },
  {
   "cell_type": "code",
   "execution_count": 22,
   "metadata": {},
   "outputs": [
    {
     "name": "stderr",
     "output_type": "stream",
     "text": [
      "/home/baldeeb/miniconda3/envs/torch-nocs/lib/python3.10/site-packages/torchvision/models/_utils.py:135: UserWarning: Using 'backbone_name' and 'weights' as positional parameter(s) is deprecated since 0.13 and may be removed in the future. Please use keyword parameter(s) instead.\n",
      "  warnings.warn(\n"
     ]
    }
   ],
   "source": [
    "from torchvision.models import ResNet50_Weights\n",
    "from torchvision.models.detection.backbone_utils import resnet_fpn_backbone\n",
    "\n",
    "from model import NOCS\n",
    "\n",
    "backbone = resnet_fpn_backbone('resnet50', ResNet50_Weights.DEFAULT)\n",
    "m = NOCS(backbone, 91)\n",
    "\n",
    "\n",
    "m.eval()\n",
    "x = [torch.rand(3, 30, 40), torch.rand(3, 50, 40)]\n",
    "# x = [image.float() / 255.0]\n",
    "predictions = m(x)\n"
   ]
  },
  {
   "cell_type": "code",
   "execution_count": 18,
   "metadata": {},
   "outputs": [
    {
     "name": "stdout",
     "output_type": "stream",
     "text": [
      "dict_keys(['boxes', 'labels', 'scores', 'masks'])\n"
     ]
    }
   ],
   "source": [
    "print(predictions[0].keys())"
   ]
  }
 ],
 "metadata": {
  "kernelspec": {
   "display_name": "torch-nocs",
   "language": "python",
   "name": "python3"
  },
  "language_info": {
   "codemirror_mode": {
    "name": "ipython",
    "version": 3
   },
   "file_extension": ".py",
   "mimetype": "text/x-python",
   "name": "python",
   "nbconvert_exporter": "python",
   "pygments_lexer": "ipython3",
   "version": "3.10.9"
  },
  "orig_nbformat": 4,
  "vscode": {
   "interpreter": {
    "hash": "c52fc408b2185ab44fd6851af3f3609bd0f1b8cfc05d8fef7114f9fa92208d5e"
   }
  }
 },
 "nbformat": 4,
 "nbformat_minor": 2
}
